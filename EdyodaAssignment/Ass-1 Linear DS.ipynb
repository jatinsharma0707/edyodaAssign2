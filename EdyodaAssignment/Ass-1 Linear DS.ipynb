{
 "cells": [
  {
   "cell_type": "markdown",
   "id": "9bc52f5a",
   "metadata": {},
   "source": [
    "# Assignment-1: Linear Data Structures"
   ]
  },
  {
   "cell_type": "markdown",
   "id": "8d1f8e22",
   "metadata": {},
   "source": [
    "### 1. Delete the elements in an linked list whose sum is equal to zero"
   ]
  },
  {
   "cell_type": "code",
   "execution_count": 20,
   "id": "302e630a",
   "metadata": {},
   "outputs": [
    {
     "name": "stdout",
     "output_type": "stream",
     "text": [
      "[20, 25]\n"
     ]
    }
   ],
   "source": [
    "class Node():\n",
    "  def __init__(self,data):\n",
    "     self.data = data\n",
    "     self.next = None\n",
    "\n",
    "class Linkedlist():\n",
    "   def __init__(self):\n",
    "     self.head = None\n",
    "    \n",
    "   def append(self,data):\n",
    "     new_node = Node(data)\n",
    "     h = self.head\n",
    "     if self.head is None:\n",
    "         self.head = new_node\n",
    "         return\n",
    "     else:\n",
    "         while h.next!=None:\n",
    "             h = h.next\n",
    "         h.next = new_node\n",
    "\n",
    "   def remove_zeros_from_linkedlist(self, head):\n",
    "     stack = []\n",
    "     curr = head\n",
    "     list = []\n",
    "     while (curr):\n",
    "         if curr.data >= 0:\n",
    "             stack.append(curr)\n",
    "         else:\n",
    "             temp = curr\n",
    "             sum = temp.data\n",
    "             flag = False\n",
    "             while (len(stack) != 0):\n",
    "                 temp2 = stack.pop()\n",
    "                 sum += temp2.data\n",
    "                 if sum == 0:\n",
    "                     flag = True\n",
    "                     list = []\n",
    "                     break\n",
    "                 elif sum > 0:\n",
    "                     list.append(temp2)\n",
    "             if not flag:\n",
    "                 if len(list) > 0:\n",
    "                     for i in range(len(list)):\n",
    "                         stack.append(list.pop())\n",
    "                 stack.append(temp)\n",
    "         curr = curr.next\n",
    "     return [i.data for i in stack]\n",
    "\n",
    "if __name__ == \"__main__\":\n",
    " l = Linkedlist()\n",
    " l.append(4)\n",
    " l.append(6)\n",
    " l.append(-10)\n",
    " l.append(8)\n",
    " l.append(9)\n",
    " l.append(10)\n",
    " l.append(-19)\n",
    " l.append(10)\n",
    " l.append(-18)\n",
    " l.append(20)\n",
    " l.append(25)\n",
    " print(l.remove_zeros_from_linkedlist(l.head))"
   ]
  },
  {
   "cell_type": "markdown",
   "id": "071691f9",
   "metadata": {},
   "source": [
    "### 2. Reverse a linked list in groups of given size."
   ]
  },
  {
   "cell_type": "code",
   "execution_count": 15,
   "id": "8360f353",
   "metadata": {},
   "outputs": [
    {
     "name": "stdout",
     "output_type": "stream",
     "text": [
      "Given linked list\n",
      "1 2 3 4 5 6 7 8 9 \n",
      "Reversed Linked list\n",
      "3 2 1 6 5 4 9 8 7 "
     ]
    }
   ],
   "source": [
    "class Node:\n",
    " \n",
    "    # Constructor to initialize the node object\n",
    "    def __init__(self, data):\n",
    "        self.data = data\n",
    "        self.next = None\n",
    " \n",
    " \n",
    "class LinkedList:\n",
    " \n",
    "    # Function to initialize head\n",
    "    def __init__(self):\n",
    "        self.head = None\n",
    " \n",
    "    def reverse(self, head, k):\n",
    "       \n",
    "        if head == None:\n",
    "          return None\n",
    "        current = head\n",
    "        next = None\n",
    "        prev = None\n",
    "        count = 0\n",
    " \n",
    "        # Reverse first k nodes of the linked list\n",
    "        while(current is not None and count < k):\n",
    "            next = current.next\n",
    "            current.next = prev\n",
    "            prev = current\n",
    "            current = next\n",
    "            count += 1\n",
    " \n",
    "        # next is now a pointer to (k+1)th node\n",
    "        # recursively call for the list starting\n",
    "        # from current. And make rest of the list as\n",
    "        # next of first node\n",
    "        if next is not None:\n",
    "            head.next = self.reverse(next, k)\n",
    " \n",
    "        # prev is new head of the input list\n",
    "        return prev\n",
    " \n",
    "    # Function to insert a new node at the beginning\n",
    "    def push(self, new_data):\n",
    "        new_node = Node(new_data)\n",
    "        new_node.next = self.head\n",
    "        self.head = new_node\n",
    " \n",
    "    # Utility function to print the linked LinkedList\n",
    "    def printList(self):\n",
    "        temp = self.head\n",
    "        while(temp):\n",
    "            print(temp.data,end=' ')\n",
    "            temp = temp.next\n",
    " \n",
    " \n",
    "llist = LinkedList()\n",
    "llist.push(9)\n",
    "llist.push(8)\n",
    "llist.push(7)\n",
    "llist.push(6)\n",
    "llist.push(5)\n",
    "llist.push(4)\n",
    "llist.push(3)\n",
    "llist.push(2)\n",
    "llist.push(1)\n",
    " \n",
    "print(\"Given linked list\")\n",
    "llist.printList()\n",
    "llist.head = llist.reverse(llist.head, 3)\n",
    " \n",
    "print (\"\\nReversed Linked list\")\n",
    "llist.printList()"
   ]
  },
  {
   "cell_type": "markdown",
   "id": "c883a07a",
   "metadata": {},
   "source": [
    "### 3. Merge a linked list into another linked list at alternate positions."
   ]
  },
  {
   "cell_type": "code",
   "execution_count": 13,
   "id": "e724c591",
   "metadata": {},
   "outputs": [
    {
     "name": "stdout",
     "output_type": "stream",
     "text": [
      "First Linked List:\n",
      "0\n",
      "1\n",
      "2\n",
      "3\n",
      "Second Linked List:\n",
      "4\n",
      "5\n",
      "6\n",
      "7\n",
      "8\n",
      "Modified first linked list:\n",
      "0\n",
      "4\n",
      "1\n",
      "5\n",
      "2\n",
      "6\n",
      "3\n",
      "7\n",
      "Modified second linked list:\n",
      "8\n"
     ]
    }
   ],
   "source": [
    "class Node(object):\n",
    "    def __init__(self, data:int):\n",
    "        self.data = data\n",
    "        self.next = None\n",
    " \n",
    " \n",
    "class LinkedList(object):\n",
    "    def __init__(self):\n",
    "        self.head = None\n",
    "         \n",
    "    def push(self, new_data:int):\n",
    "        new_node = Node(new_data)\n",
    "        new_node.next = self.head\n",
    "        # 4. Move the head to point to new Node\n",
    "        self.head = new_node\n",
    "         \n",
    "    # Function to print linked list from the Head\n",
    "    def printList(self):\n",
    "        temp = self.head\n",
    "        while temp != None:\n",
    "            print(temp.data)\n",
    "            temp = temp.next\n",
    "            \n",
    "    def merge(self, p, q):\n",
    "        p_curr = p.head\n",
    "        q_curr = q.head\n",
    "        \n",
    "        # swap their positions until one finishes off\n",
    "        while p_curr != None and q_curr != None:\n",
    " \n",
    "            # Save next pointers\n",
    "            p_next = p_curr.next\n",
    "            q_next = q_curr.next\n",
    " \n",
    "            # make q_curr as next of p_curr\n",
    "            q_curr.next = p_next \n",
    "            p_curr.next = q_curr \n",
    "            \n",
    "            # update current pointers for next iteration\n",
    "            p_curr = p_next\n",
    "            q_curr = q_next\n",
    "            q.head = q_curr\n",
    "            \n",
    "# Driver functions\n",
    "llist1 = LinkedList()\n",
    "llist2 = LinkedList()\n",
    " \n",
    "# Creating LLs\n",
    " \n",
    "# 1.\n",
    "llist1.push(3)\n",
    "llist1.push(2)\n",
    "llist1.push(1)\n",
    "llist1.push(0)\n",
    " \n",
    "    \n",
    "# 2.\n",
    "for i in range(8, 3, -1):\n",
    "    llist2.push(i)\n",
    " \n",
    "print(\"First Linked List:\")\n",
    "llist1.printList()\n",
    " \n",
    "print(\"Second Linked List:\")\n",
    "llist2.printList()\n",
    " \n",
    "# Merging the LLs\n",
    "llist1.merge(p=llist1, q=llist2)\n",
    " \n",
    "print(\"Modified first linked list:\")\n",
    "llist1.printList()\n",
    " \n",
    "print(\"Modified second linked list:\")\n",
    "llist2.printList()"
   ]
  },
  {
   "cell_type": "markdown",
   "id": "813bcd00",
   "metadata": {},
   "source": [
    "### 4. In an array, Count Pairs with given sum"
   ]
  },
  {
   "cell_type": "code",
   "execution_count": 1,
   "id": "66118798",
   "metadata": {},
   "outputs": [
    {
     "name": "stdout",
     "output_type": "stream",
     "text": [
      "Count of pairs is 1\n"
     ]
    }
   ],
   "source": [
    "def getPairsCount(arr, n, sum):\n",
    "    count = 0 \n",
    "    for i in range(0, n):\n",
    "        for j in range(i + 1, n):\n",
    "            if arr[i] + arr[j] == sum:\n",
    "                count += 1\n",
    "                \n",
    "                return count\n",
    "\n",
    "arr = [1, 5, 7, -1, 5]\n",
    "n = len(arr)\n",
    "sum = 6\n",
    "print(\"Count of pairs is\",\n",
    "      getPairsCount(arr, n, sum))"
   ]
  },
  {
   "cell_type": "markdown",
   "id": "1fd61ee5",
   "metadata": {},
   "source": [
    "### 5. Find duplicates in an array"
   ]
  },
  {
   "cell_type": "code",
   "execution_count": 2,
   "id": "f4717905",
   "metadata": {},
   "outputs": [
    {
     "name": "stdout",
     "output_type": "stream",
     "text": [
      "[12, 11, 5] "
     ]
    }
   ],
   "source": [
    "def findDuplicates(arr, Len):\n",
    "    ifPresent = False\n",
    "    \n",
    "    a1 = []\n",
    "    for i in range(Len - 1):\n",
    "        for j in range(i + 1, Len):\n",
    "            \n",
    "            \n",
    "            if (arr[i] == arr[j]):\n",
    "                if arr[i] in a1:\n",
    "                    break\n",
    "                else:\n",
    "                    a1.append(arr[i])\n",
    "                    ifPresent = True\n",
    "\n",
    "    if (ifPresent):\n",
    "        print(a1, end = \" \")\n",
    "    else:\n",
    "        print(\"No duplicates present in arrays\")\n",
    "\n",
    "arr = [ 12, 11, 40, 12, 5, 6, 5, 12, 11 ]\n",
    "n = len(arr)\n",
    "\n",
    "findDuplicates(arr, n)"
   ]
  },
  {
   "cell_type": "markdown",
   "id": "66cb823b",
   "metadata": {},
   "source": [
    "### 6. Find the Kth largest and Kth smallest number in an array"
   ]
  },
  {
   "cell_type": "code",
   "execution_count": 12,
   "id": "75a36e54",
   "metadata": {},
   "outputs": [
    {
     "name": "stdout",
     "output_type": "stream",
     "text": [
      "K'th smallest element is 5\n",
      "K'th largest element is 12\n"
     ]
    }
   ],
   "source": [
    "def kthLargest(arr, n, k):\n",
    "    arr.sort()\n",
    "    return arr[n-k]\n",
    "\n",
    "def kthSmallest(arr, n, k):\n",
    "    arr.sort()\n",
    "    return arr[k-1]\n",
    "\n",
    "# Driver code\n",
    "if __name__=='__main__':\n",
    "    arr = [12, 3, 5, 7, 19]\n",
    "    n = len(arr)\n",
    "    k = 2\n",
    "    print(\"K'th smallest element is\",\n",
    "          kthSmallest(arr, n, k))\n",
    "    print(\"K'th largest element is\",\n",
    "          kthLargest(arr, n, k))"
   ]
  },
  {
   "cell_type": "markdown",
   "id": "3aa7e1d5",
   "metadata": {},
   "source": [
    "### 7. Move all the negative elements to one side of the array"
   ]
  },
  {
   "cell_type": "code",
   "execution_count": 10,
   "id": "bacc5ced",
   "metadata": {},
   "outputs": [
    {
     "name": "stdout",
     "output_type": "stream",
     "text": [
      "Array after moving all the elements to left: [-6, -5, -3, -2, 1, 3, 3, 4, 5]\n"
     ]
    }
   ],
   "source": [
    "def find(arr):\n",
    "    # sort array\n",
    "    arr.sort()\n",
    "\n",
    "    # print array\n",
    "    print(\"Array after moving all the elements to left:\", arr)\n",
    "\n",
    "\n",
    "array = [1, 3, -2, 4, -3, -5, -6, 3, 5]\n",
    "\n",
    "find(array)"
   ]
  },
  {
   "cell_type": "markdown",
   "id": "5d082163",
   "metadata": {},
   "source": [
    "### 8. Reverse a string using a stack data structure"
   ]
  },
  {
   "cell_type": "code",
   "execution_count": 9,
   "id": "06251e7d",
   "metadata": {},
   "outputs": [
    {
     "name": "stdout",
     "output_type": "stream",
     "text": [
      "Enter String: jatinsharma\n",
      "Reversed string is amrahsnitaj\n"
     ]
    }
   ],
   "source": [
    "def createStack():\n",
    "    stack=[]\n",
    "    return stack\n",
    " \n",
    "# Function to determine the size of the stack\n",
    "def size(stack):\n",
    "    return len(stack)\n",
    " \n",
    "# Stack is empty if the size is 0\n",
    "def isEmpty(stack):\n",
    "    if size(stack) == 0:\n",
    "        return true\n",
    " \n",
    "# Function to add an item to stack .\n",
    "# It increases size by 1\n",
    "def push(stack,item):\n",
    "    stack.append(item)\n",
    " \n",
    "#Function to remove an item from stack.\n",
    "# It decreases size by 1\n",
    "def pop(stack):\n",
    "    if isEmpty(stack): return\n",
    "    return stack.pop()\n",
    " \n",
    "# A stack based function to reverse a string\n",
    "def reverse(string):\n",
    "    n = len(string)\n",
    "     \n",
    "    # Create a empty stack\n",
    "    stack = createStack()\n",
    " \n",
    "    # Push all characters of string to stack\n",
    "    for i in range(0,n,1):\n",
    "        push(stack,string[i])\n",
    " \n",
    "    # Making the string empty since all\n",
    "    #characters are saved in stack\n",
    "    string=\"\"\n",
    " \n",
    "    # Pop all characters of string and\n",
    "    # put them back to string\n",
    "    for i in range(0,n,1):\n",
    "        string+=pop(stack)\n",
    "         \n",
    "    return string\n",
    "     \n",
    "string=input(\"Enter String: \")\n",
    "string = reverse(string)\n",
    "print(\"Reversed string is \" + string)"
   ]
  },
  {
   "cell_type": "markdown",
   "id": "fad1ee7d",
   "metadata": {},
   "source": [
    "### 9. Evaluate a postfix expression using stack"
   ]
  },
  {
   "cell_type": "code",
   "execution_count": 1,
   "id": "94c06d3c",
   "metadata": {},
   "outputs": [
    {
     "name": "stdout",
     "output_type": "stream",
     "text": [
      "Enter the expression:231*+9-\n",
      "Answer: -4\n"
     ]
    }
   ],
   "source": [
    "class Node:\n",
    "    def __init__(self, data):\n",
    "        self.data = data\n",
    "        self.next = None\n",
    "\n",
    "\n",
    "class Stack:\n",
    "    def __init__(self):\n",
    "        self.top = None\n",
    "\n",
    "    def is_empty(self):\n",
    "        return self.top is None\n",
    "\n",
    "    def push(self, data):\n",
    "        new_node = Node(data)\n",
    "        new_node.next = self.top\n",
    "        self.top = new_node\n",
    "\n",
    "    def pop(self):\n",
    "        if self.is_empty():\n",
    "            print(\"[ERROR] : Stack is empty\")\n",
    "            return\n",
    "        temp_node = self.top\n",
    "        self.top = self.top.next\n",
    "        temp_node.next = None\n",
    "        return temp_node.data\n",
    "\n",
    "def evalPostfix(text):\n",
    "    s = Stack()\n",
    "    for symbol in text:\n",
    "        try:\n",
    "            result = int(symbol)\n",
    "        except ValueError:\n",
    "            if symbol not in '+-*/':\n",
    "                raise ValueError('text must contain only numbers and operators')\n",
    "            topFirst = s.pop()\n",
    "            topSecond = s.pop()\n",
    "            result = eval('%d %s %d' % (topSecond, symbol, topFirst))\n",
    "        s.push(result)\n",
    "    return s.pop() \n",
    "text = input(\"Enter the expression:\")\n",
    "print(\"Answer:\",evalPostfix(text))"
   ]
  },
  {
   "cell_type": "markdown",
   "id": "f27b99db",
   "metadata": {},
   "source": [
    "### 10. Implement a queue using the stack data structure"
   ]
  },
  {
   "cell_type": "code",
   "execution_count": 4,
   "id": "eb065593",
   "metadata": {},
   "outputs": [
    {
     "name": "stdout",
     "output_type": "stream",
     "text": [
      "1\n",
      "2\n",
      "3\n"
     ]
    }
   ],
   "source": [
    "class Queue:\n",
    "    def __init__(self):\n",
    "        self.s1 = []\n",
    "        self.s2 = []\n",
    " \n",
    "    def enQueue(self, x):\n",
    "         \n",
    "        # Move all elements from s1 to s2\n",
    "        while len(self.s1) != 0:\n",
    "            self.s2.append(self.s1[-1])\n",
    "            self.s1.pop()\n",
    " \n",
    "        # Push item into self.s1\n",
    "        self.s1.append(x)\n",
    " \n",
    "        # Push everything back to s1\n",
    "        while len(self.s2) != 0:\n",
    "            self.s1.append(self.s2[-1])\n",
    "            self.s2.pop()\n",
    " \n",
    "    # Dequeue an item from the queue\n",
    "    def deQueue(self):\n",
    "         \n",
    "            # if first stack is empty\n",
    "        if len(self.s1) == 0:\n",
    "            print(\"Q is Empty\")\n",
    "     \n",
    "        # Return top of self.s1\n",
    "        x = self.s1[-1]\n",
    "        self.s1.pop()\n",
    "        return x\n",
    " \n",
    "if __name__ == '__main__':\n",
    "    q = Queue()\n",
    "    q.enQueue(1)\n",
    "    q.enQueue(2)\n",
    "    q.enQueue(3)\n",
    " \n",
    "    print(q.deQueue())\n",
    "    print(q.deQueue())\n",
    "    print(q.deQueue())"
   ]
  },
  {
   "cell_type": "code",
   "execution_count": null,
   "id": "2bd2b9d1",
   "metadata": {},
   "outputs": [],
   "source": []
  }
 ],
 "metadata": {
  "kernelspec": {
   "display_name": "Python 3 (ipykernel)",
   "language": "python",
   "name": "python3"
  },
  "language_info": {
   "codemirror_mode": {
    "name": "ipython",
    "version": 3
   },
   "file_extension": ".py",
   "mimetype": "text/x-python",
   "name": "python",
   "nbconvert_exporter": "python",
   "pygments_lexer": "ipython3",
   "version": "3.9.6"
  }
 },
 "nbformat": 4,
 "nbformat_minor": 5
}
