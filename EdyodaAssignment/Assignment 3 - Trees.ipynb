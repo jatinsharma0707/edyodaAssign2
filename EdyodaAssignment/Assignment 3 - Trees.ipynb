{
 "cells": [
  {
   "cell_type": "markdown",
   "id": "d1e34be1",
   "metadata": {},
   "source": [
    "# Assignment 3: Trees"
   ]
  },
  {
   "cell_type": "markdown",
   "id": "675dc3c7",
   "metadata": {},
   "source": [
    "### 1. Implement Binary tree"
   ]
  },
  {
   "cell_type": "code",
   "execution_count": 4,
   "id": "e68fd230",
   "metadata": {},
   "outputs": [
    {
     "name": "stdout",
     "output_type": "stream",
     "text": [
      "Can't set child at 3 , no parent found\n",
      "Can't set child at 4 , no parent found\n",
      "A-C---F---\n"
     ]
    }
   ],
   "source": [
    "tree = [None] * 10\n",
    "\n",
    "\n",
    "def root(key):\n",
    "    if tree[0] != None:\n",
    "        print(\"Tree already had root\")\n",
    "    else:\n",
    "        tree[0] = key\n",
    "\n",
    "\n",
    "def set_left(key, parent):\n",
    "    if tree[parent] == None:\n",
    "        print(\"Can't set child at\", (parent * 2) + 1, \", no parent found\")\n",
    "    else:\n",
    "        tree[(parent * 2) + 1] = key\n",
    "\n",
    "\n",
    "def set_right(key, parent):\n",
    "    if tree[parent] == None:\n",
    "        print(\"Can't set child at\", (parent * 2) + 2, \", no parent found\")\n",
    "    else:\n",
    "        tree[(parent * 2) + 2] = key\n",
    "\n",
    "\n",
    "def print_tree():\n",
    "    for i in range(10):\n",
    "        if tree[i] != None:\n",
    "            print(tree[i], end=\"\")\n",
    "        else:\n",
    "            print(\"-\", end=\"\")\n",
    "    print()\n",
    "\n",
    "\n",
    "# Driver Code\n",
    "root('A')\n",
    "set_right('C', 0)\n",
    "set_left('D', 1)\n",
    "set_right('E', 1)\n",
    "set_right('F', 2)\n",
    "print_tree()"
   ]
  },
  {
   "cell_type": "markdown",
   "id": "ff8d0d9f",
   "metadata": {},
   "source": [
    "### 2. Find height of a given tree"
   ]
  },
  {
   "cell_type": "code",
   "execution_count": 3,
   "id": "ddc3fa41",
   "metadata": {},
   "outputs": [
    {
     "name": "stdout",
     "output_type": "stream",
     "text": [
      "Height of tree is 2\n"
     ]
    }
   ],
   "source": [
    "class Node:\n",
    "    def __init__(self, data):\n",
    "        self.data = data\n",
    "        self.left = None\n",
    "        self.right = None\n",
    "\n",
    "\n",
    "def maxDepth(node):\n",
    "    if node is None:\n",
    "        return -1 ;\n",
    "    else :\n",
    "        lDepth = maxDepth(node.left)\n",
    "        rDepth = maxDepth(node.right)\n",
    "        \n",
    "        \n",
    "        if (lDepth > rDepth):\n",
    "            return lDepth+1\n",
    "        else:\n",
    "            return rDepth+1\n",
    "\n",
    "\n",
    "# Driver function\n",
    "root = Node(1)\n",
    "root.left = Node(2)\n",
    "root.right = Node(3)\n",
    "root.left.left = Node(4)\n",
    "root.left.right = Node(5)\n",
    "\n",
    "\n",
    "print (\"Height of tree is %d\" %(maxDepth(root)))"
   ]
  },
  {
   "cell_type": "markdown",
   "id": "c2a3a7e8",
   "metadata": {},
   "source": [
    "### 3. Perform Pre-order, Post-order, In-order traversal"
   ]
  },
  {
   "cell_type": "code",
   "execution_count": 2,
   "id": "f7558937",
   "metadata": {},
   "outputs": [
    {
     "name": "stdout",
     "output_type": "stream",
     "text": [
      "Preorder traversal of binary tree is\n",
      "1\n",
      "2\n",
      "4\n",
      "5\n",
      "3\n",
      "\n",
      "Inorder traversal of binary tree is\n",
      "4\n",
      "2\n",
      "5\n",
      "1\n",
      "3\n",
      "\n",
      "Postorder traversal of binary tree is\n",
      "4\n",
      "5\n",
      "2\n",
      "3\n",
      "1\n"
     ]
    }
   ],
   "source": [
    "class Node:\n",
    "    def __init__(self, key):\n",
    "        self.left = None\n",
    "        self.right = None\n",
    "        self.val = key\n",
    "\n",
    "\n",
    "def printInorder(root):\n",
    "    if root:\n",
    "        printInorder(root.left)\n",
    "        print(root.val),\n",
    "        \n",
    "        printInorder(root.right)\n",
    "\n",
    "\n",
    "def printPostorder(root):\n",
    "    if root:\n",
    "        printPostorder(root.left)\n",
    "        \n",
    "        printPostorder(root.right)\n",
    "        print(root.val),\n",
    "\n",
    "\n",
    "def printPreorder(root):\n",
    "    if root:\n",
    "        print(root.val),\n",
    "        printPreorder(root.left)\n",
    "        \n",
    "        printPreorder(root.right)\n",
    "\n",
    "\n",
    "# Driver code\n",
    "root = Node(1)\n",
    "root.left = Node(2)\n",
    "root.right = Node(3)\n",
    "root.left.left = Node(4)\n",
    "root.left.right = Node(5)\n",
    "print (\"Preorder traversal of binary tree is\")\n",
    "printPreorder(root)\n",
    "\n",
    "print (\"\\nInorder traversal of binary tree is\")\n",
    "printInorder(root)\n",
    "\n",
    "print (\"\\nPostorder traversal of binary tree is\")\n",
    "printPostorder(root)\n"
   ]
  },
  {
   "cell_type": "markdown",
   "id": "8cc6ad5c",
   "metadata": {},
   "source": [
    "### 4. Function to print all the leaves in a given binary tree"
   ]
  },
  {
   "cell_type": "code",
   "execution_count": 5,
   "id": "b1a809d8",
   "metadata": {},
   "outputs": [
    {
     "name": "stdout",
     "output_type": "stream",
     "text": [
      "4 6 7 9 10 "
     ]
    }
   ],
   "source": [
    "class Node:\n",
    "    def __init__(self, data):\n",
    "        self.data = data\n",
    "        self.left = None\n",
    "        self.right = None\n",
    "\n",
    "def printLeafNodes(root: Node) -> None:\n",
    "    if (not root):\n",
    "        return\n",
    "    \n",
    "    if (not root.left and\n",
    "        not root.right):\n",
    "        print(root.data,end = \" \")\n",
    "        return\n",
    "    \n",
    "    if root.left:\n",
    "        printLeafNodes(root.left)\n",
    "        \n",
    "    if root.right:\n",
    "        printLeafNodes(root.right)\n",
    "\n",
    "# Driver Code\n",
    "if __name__ == \"__main__\":\n",
    "    \n",
    "    root = Node(1)\n",
    "    root.left = Node(2)\n",
    "    root.right = Node(3)\n",
    "    root.left.left = Node(4)\n",
    "    root.right.left = Node(5)\n",
    "    root.right.right = Node(8)\n",
    "    root.right.left.left = Node(6)\n",
    "    root.right.left.right = Node(7)\n",
    "    root.right.right.left = Node(9)\n",
    "    root.right.right.right = Node(10)\n",
    "    \n",
    "    printLeafNodes(root)"
   ]
  },
  {
   "cell_type": "markdown",
   "id": "0f4ae0a5",
   "metadata": {},
   "source": [
    "### 5. Implement BFS (Breadth First Search) and DFS (Depth First Search)"
   ]
  },
  {
   "cell_type": "code",
   "execution_count": 6,
   "id": "5909ecc9",
   "metadata": {},
   "outputs": [
    {
     "name": "stdout",
     "output_type": "stream",
     "text": [
      "Following is Breadth First Traversal (starting from vertex 2)\n",
      "2 0 3 1 "
     ]
    }
   ],
   "source": [
    "#  BFS traversal\n",
    "from collections import defaultdict\n",
    "class Graph:\n",
    "    def __init__(self):\n",
    "        self.graph = defaultdict(list)\n",
    "        \n",
    "    def addEdge(self,u,v):\n",
    "        self.graph[u].append(v)\n",
    "        \n",
    "    def BFS(self, s):\n",
    "        visited = [False] * (len(self.graph))\n",
    "        \n",
    "        # Create a queue for BFS\n",
    "        queue = []\n",
    "        queue.append(s)\n",
    "        visited[s] = True\n",
    "        \n",
    "        while queue:\n",
    "            s = queue.pop(0)\n",
    "            print (s, end = \" \")\n",
    "            \n",
    "            \n",
    "            for i in self.graph[s]:\n",
    "                if visited[i] == False:\n",
    "                    queue.append(i)\n",
    "                    visited[i] = True\n",
    "\n",
    "# Driver function\n",
    "\n",
    "g = Graph()\n",
    "g.addEdge(0, 1)\n",
    "g.addEdge(0, 2)\n",
    "g.addEdge(1, 2)\n",
    "g.addEdge(2, 0)\n",
    "g.addEdge(2, 3)\n",
    "g.addEdge(3, 3)\n",
    "\n",
    "print (\"Following is Breadth First Traversal\"\n",
    "                  \" (starting from vertex 2)\")\n",
    "g.BFS(2)"
   ]
  },
  {
   "cell_type": "code",
   "execution_count": 9,
   "id": "8218b06d",
   "metadata": {},
   "outputs": [
    {
     "name": "stdout",
     "output_type": "stream",
     "text": [
      "Following is Depth First Traversal\n",
      "0\n",
      "1\n",
      "2\n",
      "3\n"
     ]
    }
   ],
   "source": [
    "# DFS traversal\n",
    "from collections import defaultdict\n",
    "class Graph:\n",
    "    def __init__(self):\n",
    "        self.graph = defaultdict(list)\n",
    "        \n",
    "    def addEdge(self,u,v):\n",
    "        self.graph[u].append(v)\n",
    "        \n",
    "    def DFSUtil(self, v, visited):\n",
    "        visited[v]= True\n",
    "        print (v)\n",
    "        \n",
    "        for i in self.graph[v]:\n",
    "            if visited[i] == False:\n",
    "                self.DFSUtil(i, visited)\n",
    "                \n",
    "    def DFS(self):\n",
    "        V = len(self.graph) #total vertices\n",
    "        visited =[False]*(V)\n",
    "        \n",
    "        for i in range(V):\n",
    "            if visited[i] == False:\n",
    "                self.DFSUtil(i, visited)\n",
    "\n",
    "\n",
    "# Driver function\n",
    "g = Graph()\n",
    "g.addEdge(0, 1)\n",
    "g.addEdge(0, 2)\n",
    "g.addEdge(1, 2)\n",
    "g.addEdge(2, 0)\n",
    "g.addEdge(2, 3)\n",
    "g.addEdge(3, 3)\n",
    "\n",
    "print (\"Following is Depth First Traversal\")\n",
    "g.DFS()"
   ]
  },
  {
   "cell_type": "markdown",
   "id": "9f1c0ab4",
   "metadata": {},
   "source": [
    "### 6. Find sum of all left leaves in a given Binary Tree"
   ]
  },
  {
   "cell_type": "code",
   "execution_count": 10,
   "id": "543fa901",
   "metadata": {},
   "outputs": [
    {
     "name": "stdout",
     "output_type": "stream",
     "text": [
      "Sum of left leaves is 78\n"
     ]
    }
   ],
   "source": [
    "class Node:\n",
    "    def __init__(self, key):\n",
    "        self.key = key\n",
    "        self.left = None\n",
    "        self.right = None\n",
    "\n",
    "def isLeaf(node):\n",
    "    if node is None:\n",
    "        return False\n",
    "    if node.left is None and node.right is None:\n",
    "        return True\n",
    "    return False\n",
    "\n",
    "def leftLeavesSum(root):\n",
    "    res = 0\n",
    "    \n",
    "    if root is not None:\n",
    "        if isLeaf(root.left):\n",
    "            res += root.left.key\n",
    "        else:\n",
    "            res += leftLeavesSum(root.left)\n",
    "            \n",
    "        res += leftLeavesSum(root.right)\n",
    "    return res\n",
    "\n",
    "# Driver function\n",
    "root = Node(20)\n",
    "root.left = Node(9)\n",
    "root.right = Node(49)\n",
    "root.right.left = Node(23)\t\n",
    "root.right.right = Node(52)\n",
    "root.right.right.left = Node(50)\n",
    "root.left.left = Node(5)\n",
    "root.left.right = Node(12)\n",
    "root.left.right.right = Node(12)\n",
    "print (\"Sum of left leaves is\", leftLeavesSum(root))"
   ]
  },
  {
   "cell_type": "markdown",
   "id": "12e44cc1",
   "metadata": {},
   "source": [
    "### 7. Find sum of all nodes of the given perfect binary tree"
   ]
  },
  {
   "cell_type": "code",
   "execution_count": 11,
   "id": "1a8f7da4",
   "metadata": {},
   "outputs": [
    {
     "name": "stdout",
     "output_type": "stream",
     "text": [
      "30\n"
     ]
    }
   ],
   "source": [
    "def SumNodes(l):\n",
    "    leafNodeCount = pow(2, l - 1)\n",
    "    vec = [[] for i in range(l)]\n",
    "    \n",
    "    for i in range(1, leafNodeCount + 1):\n",
    "        vec[l - 1].append(i)\n",
    "        \n",
    "    for i in range(l - 2, -1, -1):\n",
    "        k = 0\n",
    "        \n",
    "        while (k < len(vec[i + 1]) - 1):\n",
    "            vec[i].append(vec[i + 1][k] + vec[i + 1][k + 1])\n",
    "            k += 2\n",
    "            \n",
    "    Sum = 0\n",
    "    \n",
    "    for i in range(l):\n",
    "        for j in range(len(vec[i])):\n",
    "            Sum += vec[i][j]\n",
    "    return Sum\n",
    "\n",
    "# Driver function\n",
    "if __name__ == '__main__':\n",
    "    l = 3\n",
    "    \n",
    "    print(SumNodes(l))"
   ]
  },
  {
   "cell_type": "markdown",
   "id": "d22a42fc",
   "metadata": {},
   "source": [
    "### 8. Count subtress that sum up to a given value x in a binary tree"
   ]
  },
  {
   "cell_type": "code",
   "execution_count": 12,
   "id": "5e8e6bd5",
   "metadata": {},
   "outputs": [
    {
     "name": "stdout",
     "output_type": "stream",
     "text": [
      "Count = 2\n"
     ]
    }
   ],
   "source": [
    "class getNode:\n",
    "    def __init__(self, data):\n",
    "        self.data = data\n",
    "        self.left = self.right = None\n",
    "\n",
    "        \n",
    "def countSubtreesWithSumX(root, count, x):\n",
    "    if (not root):\n",
    "        return 0\n",
    "    \n",
    "    ls = countSubtreesWithSumX(root.left,count, x)\n",
    "    rs = countSubtreesWithSumX(root.right,count, x)\n",
    "    Sum = ls + rs + root.data\n",
    "    \n",
    "    if (Sum == x):\n",
    "        count[0] += 1\n",
    "        \n",
    "    return Sum\n",
    "\n",
    "def countSubtreesWithSumXUtil(root, x):\n",
    "    if (not root):\n",
    "        return 0\n",
    "    count = [0]\n",
    "    \n",
    "    ls = countSubtreesWithSumX(root.left,count, x)\n",
    "    rs = countSubtreesWithSumX(root.right,count, x)\n",
    "    \n",
    "    if ((ls + rs + root.data) == x):\n",
    "        count[0] += 1\n",
    "        \n",
    "    return count[0]\n",
    "\n",
    "# Driver function\n",
    "if __name__ == '__main__':\n",
    "    root = getNode(5)\n",
    "    root.left = getNode(-10)\n",
    "    root.right = getNode(3)\n",
    "    root.left.left = getNode(9)\n",
    "    root.left.right = getNode(8)\n",
    "    root.right.left = getNode(-4)\n",
    "    root.right.right = getNode(7)\n",
    "    \n",
    "    x = 7\n",
    "    print(\"Count =\",countSubtreesWithSumXUtil(root, x))"
   ]
  },
  {
   "cell_type": "markdown",
   "id": "7739539a",
   "metadata": {},
   "source": [
    "### 9. Find maximum level sum in Binary Tree"
   ]
  },
  {
   "cell_type": "code",
   "execution_count": 2,
   "id": "63d33149",
   "metadata": {},
   "outputs": [
    {
     "name": "stdout",
     "output_type": "stream",
     "text": [
      "Maximum level sum is 17\n"
     ]
    }
   ],
   "source": [
    "from collections import deque\n",
    " \n",
    "# A binary tree node has data, pointer\n",
    "# to left child and a pointer to right\n",
    "# child\n",
    "class Node:\n",
    "     \n",
    "    def __init__(self, key):\n",
    "         \n",
    "        self.data = key\n",
    "        self.left = None\n",
    "        self.right = None\n",
    " \n",
    "# Function to find the maximum sum\n",
    "# of a level in tree\n",
    "# using level order traversal\n",
    "def maxLevelSum(root):\n",
    "     \n",
    "    # Base case\n",
    "    if (root == None):\n",
    "        return 0\n",
    " \n",
    "    # Initialize result\n",
    "    result = root.data\n",
    "     \n",
    "    # Do Level order traversal keeping\n",
    "    # track of number\n",
    "    # of nodes at every level.\n",
    "    q = deque()\n",
    "    q.append(root)\n",
    "     \n",
    "    while (len(q) > 0):\n",
    "         \n",
    "        # Get the size of queue when the\n",
    "        # level order traversal for one\n",
    "        # level finishes\n",
    "        count = len(q)\n",
    " \n",
    "        # Iterate for all the nodes in\n",
    "        # the queue currently\n",
    "        sum = 0\n",
    "        while (count > 0):\n",
    "             \n",
    "            # Dequeue an node from queue\n",
    "            temp = q.popleft()\n",
    " \n",
    "            # Add this node's value to current sum.\n",
    "            sum = sum + temp.data\n",
    " \n",
    "            # Enqueue left and right children of\n",
    "            # dequeued node\n",
    "            if (temp.left != None):\n",
    "                q.append(temp.left)\n",
    "            if (temp.right != None):\n",
    "                q.append(temp.right)\n",
    "                 \n",
    "            count -= 1   \n",
    " \n",
    "        # Update the maximum node count value\n",
    "        result = max(sum, result)\n",
    " \n",
    "    return result\n",
    "\n",
    "if __name__ == '__main__':\n",
    "     \n",
    "    root = Node(1)\n",
    "    root.left = Node(2)\n",
    "    root.right = Node(3)\n",
    "    root.left.left = Node(4)\n",
    "    root.left.right = Node(5)\n",
    "    root.right.right = Node(8)\n",
    "    root.right.right.left = Node(6)\n",
    "    root.right.right.right = Node(7)\n",
    " \n",
    "    # Constructed Binary tree is:\n",
    "    #              1\n",
    "    #            /   \\\n",
    "    #          2      3\n",
    "    #        /  \\      \\\n",
    "    #       4    5      8\n",
    "    #                 /   \\\n",
    "    #                6     7   \n",
    "    print(\"Maximum level sum is\", maxLevelSum(root))"
   ]
  },
  {
   "cell_type": "markdown",
   "id": "98ae5d18",
   "metadata": {},
   "source": [
    "### 10. Print the nodes at odd levels of a tree"
   ]
  },
  {
   "cell_type": "code",
   "execution_count": 19,
   "id": "9dae97b4",
   "metadata": {},
   "outputs": [
    {
     "name": "stdout",
     "output_type": "stream",
     "text": [
      "1 4 5 "
     ]
    }
   ],
   "source": [
    "class newNode:\n",
    "    def __init__(self, data):\n",
    "        self.data = data\n",
    "        self.left = self.right = None\n",
    "\n",
    "def printOddNodes(root, isOdd = True):\n",
    "    if (root == None):\n",
    "        return\n",
    "    \n",
    "    if (isOdd):\n",
    "        print(root.data, end = \" \")\n",
    "        \n",
    "    printOddNodes(root.left, not isOdd)\n",
    "    printOddNodes(root.right, not isOdd)\n",
    "\n",
    "# Driver function\n",
    "if __name__ == '__main__':\n",
    "    root = newNode(1)\n",
    "    root.left = newNode(2)\n",
    "    root.right = newNode(3)\n",
    "    root.left.left = newNode(4)\n",
    "    root.left.right = newNode(5)\n",
    "    printOddNodes(root)"
   ]
  }
 ],
 "metadata": {
  "kernelspec": {
   "display_name": "Python 3 (ipykernel)",
   "language": "python",
   "name": "python3"
  },
  "language_info": {
   "codemirror_mode": {
    "name": "ipython",
    "version": 3
   },
   "file_extension": ".py",
   "mimetype": "text/x-python",
   "name": "python",
   "nbconvert_exporter": "python",
   "pygments_lexer": "ipython3",
   "version": "3.9.6"
  }
 },
 "nbformat": 4,
 "nbformat_minor": 5
}
